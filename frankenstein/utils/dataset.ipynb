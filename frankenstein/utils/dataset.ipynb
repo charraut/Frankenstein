{
 "cells": [
  {
   "cell_type": "code",
   "execution_count": 14,
   "metadata": {},
   "outputs": [],
   "source": [
    "import minari\n",
    "from torch.utils.data import DataLoader\n",
    "from frankenstein.utils.dataset import collate_fn\n",
    "import gymnasium as gym\n",
    "from gymnasium import spaces"
   ]
  },
  {
   "cell_type": "code",
   "execution_count": 15,
   "metadata": {},
   "outputs": [
    {
     "data": {
      "text/plain": [
       "dict_keys(['antmaze-large-diverse-v0', 'antmaze-large-play-v0', 'antmaze-medium-diverse-v0', 'antmaze-medium-play-v0', 'antmaze-umaze-diverse-v0', 'antmaze-umaze-v0', 'door-cloned-v0', 'door-cloned-v1', 'door-expert-v0', 'door-expert-v1', 'door-human-v0', 'door-human-v1', 'hammer-cloned-v0', 'hammer-cloned-v1', 'hammer-expert-v0', 'hammer-expert-v1', 'hammer-human-v0', 'hammer-human-v1', 'kitchen-complete-v0', 'kitchen-complete-v1', 'kitchen-mixed-v0', 'kitchen-mixed-v1', 'kitchen-partial-v0', 'kitchen-partial-v1', 'minigrid-fourrooms-random-v0', 'minigrid-fourrooms-v0', 'pen-cloned-v0', 'pen-cloned-v1', 'pen-expert-v0', 'pen-expert-v1', 'pen-human-v0', 'pen-human-v1', 'pointmaze-large-dense-v0', 'pointmaze-large-dense-v1', 'pointmaze-large-v0', 'pointmaze-large-v1', 'pointmaze-medium-dense-v0', 'pointmaze-medium-dense-v1', 'pointmaze-medium-v0', 'pointmaze-medium-v1', 'pointmaze-open-dense-v0', 'pointmaze-open-dense-v1', 'pointmaze-open-v0', 'pointmaze-open-v1', 'pointmaze-umaze-dense-v0', 'pointmaze-umaze-dense-v1', 'pointmaze-umaze-v0', 'pointmaze-umaze-v1', 'relocate-cloned-v0', 'relocate-cloned-v1', 'relocate-expert-v0', 'relocate-expert-v1', 'relocate-human-v0', 'relocate-human-v1'])"
      ]
     },
     "execution_count": 15,
     "metadata": {},
     "output_type": "execute_result"
    }
   ],
   "source": [
    "remote_datasets = minari.list_remote_datasets()\n",
    "remote_datasets.keys()"
   ]
  },
  {
   "cell_type": "code",
   "execution_count": 16,
   "metadata": {},
   "outputs": [],
   "source": [
    "# minari.download_dataset(dataset_id=\"antmaze-large-play-v0\")"
   ]
  },
  {
   "cell_type": "code",
   "execution_count": 17,
   "metadata": {},
   "outputs": [],
   "source": [
    "local_datasets = minari.list_local_datasets()"
   ]
  },
  {
   "cell_type": "code",
   "execution_count": 18,
   "metadata": {},
   "outputs": [
    {
     "name": "stdout",
     "output_type": "stream",
     "text": [
      "EPISODE ID'S SAMPLE 0: [53, 591, 15, 909, 680]\n",
      "EPISODE ID'S SAMPLE 1: [175, 450, 923, 346, 810]\n",
      "EPISODE ID'S SAMPLE 2: [512, 268, 25, 858, 887]\n",
      "EPISODE ID'S SAMPLE 3: [408, 212, 629, 148, 739]\n",
      "EPISODE ID'S SAMPLE 4: [794, 212, 517, 831, 796]\n"
     ]
    }
   ],
   "source": [
    "dataset = minari.load_dataset(\"env_name-dataset_name-v1\")\n",
    "dataset.set_seed(seed=123)\n",
    "\n",
    "for i in range(5):\n",
    "    # sample 5 episodes from the dataset\n",
    "    episodes = dataset.sample_episodes(n_episodes=5)\n",
    "    # get id's from the sampled episodes\n",
    "    ids = list(map(lambda ep: ep.id, episodes))\n",
    "    print(f\"EPISODE ID'S SAMPLE {i}: {ids}\")"
   ]
  },
  {
   "cell_type": "code",
   "execution_count": 19,
   "metadata": {},
   "outputs": [],
   "source": [
    "# Dataloader from dataset\n",
    "dataloader = DataLoader(dataset, batch_size=256, shuffle=True, collate_fn=collate_fn)"
   ]
  },
  {
   "cell_type": "code",
   "execution_count": 58,
   "metadata": {},
   "outputs": [],
   "source": [
    "# Sample episodes from dataset - HalfCheetah only 1-timestep (s,a,r,s') - Single Trajectory ?\n",
    "ep_data = dataloader.dataset.sample_episodes(10)"
   ]
  },
  {
   "cell_type": "code",
   "execution_count": 21,
   "metadata": {},
   "outputs": [],
   "source": [
    "# Recover env from dataset with env.spec\n",
    "env = dataset.recover_environment()\n",
    "observation_space = env.observation_space\n",
    "action_space = env.action_space"
   ]
  }
 ],
 "metadata": {
  "kernelspec": {
   "display_name": "matuidi_charro",
   "language": "python",
   "name": "python3"
  },
  "language_info": {
   "codemirror_mode": {
    "name": "ipython",
    "version": 3
   },
   "file_extension": ".py",
   "mimetype": "text/x-python",
   "name": "python",
   "nbconvert_exporter": "python",
   "pygments_lexer": "ipython3",
   "version": "3.11.5"
  }
 },
 "nbformat": 4,
 "nbformat_minor": 2
}
