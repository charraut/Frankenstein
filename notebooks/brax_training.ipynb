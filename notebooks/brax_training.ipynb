{
 "cells": [
  {
   "cell_type": "code",
   "execution_count": 1,
   "metadata": {
    "executionInfo": {
     "elapsed": 22308,
     "status": "ok",
     "timestamp": 1679686324614,
     "user": {
      "displayName": "",
      "userId": ""
     },
     "user_tz": 240
    },
    "id": "kUrAlZTod7t_"
   },
   "outputs": [],
   "source": [
    "import functools\n",
    "import jax\n",
    "import os\n",
    "\n",
    "from datetime import datetime\n",
    "from jax import numpy as jp\n",
    "import matplotlib.pyplot as plt\n",
    "\n",
    "from IPython.display import HTML, clear_output\n",
    "\n",
    "\n",
    "import flax\n",
    "from brax import envs\n",
    "from brax.io import model\n",
    "from brax.io import json\n",
    "from brax.io import html\n",
    "from brax.training.agents.ppo import train as ppo\n",
    "from brax.training.agents.sac import train as sac"
   ]
  },
  {
   "cell_type": "code",
   "execution_count": 2,
   "metadata": {
    "colab": {
     "height": 480
    },
    "executionInfo": {
     "elapsed": 6143,
     "status": "ok",
     "timestamp": 1679686333304,
     "user": {
      "displayName": "",
      "userId": ""
     },
     "user_tz": 240
    },
    "id": "4hHuDp53e4VJ",
    "outputId": "90d4c41b-9a25-4ca4-c6be-93172ea9ef57"
   },
   "outputs": [
    {
     "name": "stderr",
     "output_type": "stream",
     "text": [
      "2023-10-23 11:05:02.380789: W external/xla/xla/service/gpu/nvptx_compiler.cc:673] The NVIDIA driver's CUDA version is 12.2 which is older than the ptxas CUDA version (12.3.52). Because the driver is older than the ptxas version, XLA is disabling parallel compilation, which may slow down compilation. You should update your NVIDIA driver or use the NVIDIA-provided CUDA forward compatibility packages.\n"
     ]
    }
   ],
   "source": [
    "env_name = \"halfcheetah\"  # @param ['ant', 'halfcheetah', 'hopper', 'humanoid', 'humanoidstandup', 'inverted_pendulum', 'inverted_double_pendulum', 'pusher', 'reacher', 'walker2d']\n",
    "backend = \"generalized\"  # @param ['generalized', 'positional', 'spring']\n",
    "\n",
    "env = envs.get_environment(env_name=env_name, backend=backend)\n",
    "state = jax.jit(env.reset)(rng=jax.random.PRNGKey(seed=0))"
   ]
  },
  {
   "cell_type": "markdown",
   "metadata": {
    "id": "y3MA1UYlftuq"
   },
   "source": [
    "# Training"
   ]
  },
  {
   "cell_type": "code",
   "execution_count": 3,
   "metadata": {
    "colab": {
     "height": 321
    },
    "executionInfo": {
     "elapsed": 190263,
     "status": "ok",
     "timestamp": 1671658344336,
     "user": {
      "displayName": "",
      "userId": ""
     },
     "user_tz": 300
    },
    "id": "FB6G2_Yt4A2m",
    "outputId": "402a0a43-3525-4eca-a425-ffcc71e8db0f"
   },
   "outputs": [
    {
     "data": {
      "image/png": "[encoded data removed]",
      "text/plain": [
       "<Figure size 640x480 with 1 Axes>"
      ]
     },
     "metadata": {},
     "output_type": "display_data"
    }
   ],
   "source": [
    "# We determined some reasonable hyperparameters offline and share them here.\n",
    "train_fn = {\n",
    "    \"inverted_pendulum\": functools.partial(\n",
    "        ppo.train,\n",
    "        num_timesteps=2_000_000,\n",
    "        num_evals=20,\n",
    "        reward_scaling=10,\n",
    "        episode_length=1000,\n",
    "        normalize_observations=True,\n",
    "        action_repeat=1,\n",
    "        unroll_length=5,\n",
    "        num_minibatches=32,\n",
    "        num_updates_per_batch=4,\n",
    "        discounting=0.97,\n",
    "        learning_rate=3e-4,\n",
    "        entropy_cost=1e-2,\n",
    "        num_envs=2048,\n",
    "        batch_size=1024,\n",
    "        seed=1,\n",
    "    ),\n",
    "    \"inverted_double_pendulum\": functools.partial(\n",
    "        ppo.train,\n",
    "        num_timesteps=20_000_000,\n",
    "        num_evals=20,\n",
    "        reward_scaling=10,\n",
    "        episode_length=1000,\n",
    "        normalize_observations=True,\n",
    "        action_repeat=1,\n",
    "        unroll_length=5,\n",
    "        num_minibatches=32,\n",
    "        num_updates_per_batch=4,\n",
    "        discounting=0.97,\n",
    "        learning_rate=3e-4,\n",
    "        entropy_cost=1e-2,\n",
    "        num_envs=2048,\n",
    "        batch_size=1024,\n",
    "        seed=1,\n",
    "    ),\n",
    "    \"ant\": functools.partial(\n",
    "        ppo.train,\n",
    "        num_timesteps=50_000_000,\n",
    "        num_evals=10,\n",
    "        reward_scaling=10,\n",
    "        episode_length=1000,\n",
    "        normalize_observations=True,\n",
    "        action_repeat=1,\n",
    "        unroll_length=5,\n",
    "        num_minibatches=32,\n",
    "        num_updates_per_batch=4,\n",
    "        discounting=0.97,\n",
    "        learning_rate=3e-4,\n",
    "        entropy_cost=1e-2,\n",
    "        num_envs=4096,\n",
    "        batch_size=2048,\n",
    "        seed=1,\n",
    "    ),\n",
    "    \"humanoid\": functools.partial(\n",
    "        ppo.train,\n",
    "        num_timesteps=50_000_000,\n",
    "        num_evals=10,\n",
    "        reward_scaling=0.1,\n",
    "        episode_length=1000,\n",
    "        normalize_observations=True,\n",
    "        action_repeat=1,\n",
    "        unroll_length=10,\n",
    "        num_minibatches=32,\n",
    "        num_updates_per_batch=8,\n",
    "        discounting=0.97,\n",
    "        learning_rate=3e-4,\n",
    "        entropy_cost=1e-3,\n",
    "        num_envs=2048,\n",
    "        batch_size=1024,\n",
    "        seed=1,\n",
    "    ),\n",
    "    \"reacher\": functools.partial(\n",
    "        ppo.train,\n",
    "        num_timesteps=50_000_000,\n",
    "        num_evals=20,\n",
    "        reward_scaling=5,\n",
    "        episode_length=1000,\n",
    "        normalize_observations=True,\n",
    "        action_repeat=4,\n",
    "        unroll_length=50,\n",
    "        num_minibatches=32,\n",
    "        num_updates_per_batch=8,\n",
    "        discounting=0.95,\n",
    "        learning_rate=3e-4,\n",
    "        entropy_cost=1e-3,\n",
    "        num_envs=2048,\n",
    "        batch_size=256,\n",
    "        max_devices_per_host=8,\n",
    "        seed=1,\n",
    "    ),\n",
    "    \"humanoidstandup\": functools.partial(\n",
    "        ppo.train,\n",
    "        num_timesteps=100_000_000,\n",
    "        num_evals=20,\n",
    "        reward_scaling=0.1,\n",
    "        episode_length=1000,\n",
    "        normalize_observations=True,\n",
    "        action_repeat=1,\n",
    "        unroll_length=15,\n",
    "        num_minibatches=32,\n",
    "        num_updates_per_batch=8,\n",
    "        discounting=0.97,\n",
    "        learning_rate=6e-4,\n",
    "        entropy_cost=1e-2,\n",
    "        num_envs=2048,\n",
    "        batch_size=1024,\n",
    "        seed=1,\n",
    "    ),\n",
    "    \"hopper\": functools.partial(\n",
    "        sac.train,\n",
    "        num_timesteps=6_553_600,\n",
    "        num_evals=20,\n",
    "        reward_scaling=30,\n",
    "        episode_length=1000,\n",
    "        normalize_observations=True,\n",
    "        action_repeat=1,\n",
    "        discounting=0.997,\n",
    "        learning_rate=6e-4,\n",
    "        num_envs=128,\n",
    "        batch_size=512,\n",
    "        grad_updates_per_step=64,\n",
    "        max_devices_per_host=1,\n",
    "        max_replay_size=1048576,\n",
    "        min_replay_size=8192,\n",
    "        seed=1,\n",
    "    ),\n",
    "    \"walker2d\": functools.partial(\n",
    "        sac.train,\n",
    "        num_timesteps=7_864_320,\n",
    "        num_evals=20,\n",
    "        reward_scaling=5,\n",
    "        episode_length=1000,\n",
    "        normalize_observations=True,\n",
    "        action_repeat=1,\n",
    "        discounting=0.997,\n",
    "        learning_rate=6e-4,\n",
    "        num_envs=128,\n",
    "        batch_size=128,\n",
    "        grad_updates_per_step=32,\n",
    "        max_devices_per_host=1,\n",
    "        max_replay_size=1048576,\n",
    "        min_replay_size=8192,\n",
    "        seed=1,\n",
    "    ),\n",
    "    \"halfcheetah\": functools.partial(\n",
    "        ppo.train,\n",
    "        num_timesteps=50_000_000,\n",
    "        num_evals=20,\n",
    "        reward_scaling=1,\n",
    "        episode_length=1000,\n",
    "        normalize_observations=True,\n",
    "        action_repeat=1,\n",
    "        unroll_length=20,\n",
    "        num_minibatches=32,\n",
    "        num_updates_per_batch=8,\n",
    "        discounting=0.95,\n",
    "        learning_rate=3e-4,\n",
    "        entropy_cost=0.001,\n",
    "        num_envs=2048,\n",
    "        batch_size=512,\n",
    "        seed=3,\n",
    "    ),\n",
    "    \"pusher\": functools.partial(\n",
    "        ppo.train,\n",
    "        num_timesteps=50_000_000,\n",
    "        num_evals=20,\n",
    "        reward_scaling=5,\n",
    "        episode_length=1000,\n",
    "        normalize_observations=True,\n",
    "        action_repeat=1,\n",
    "        unroll_length=30,\n",
    "        num_minibatches=16,\n",
    "        num_updates_per_batch=8,\n",
    "        discounting=0.95,\n",
    "        learning_rate=3e-4,\n",
    "        entropy_cost=1e-2,\n",
    "        num_envs=2048,\n",
    "        batch_size=512,\n",
    "        seed=3,\n",
    "    ),\n",
    "}[env_name]\n",
    "\n",
    "\n",
    "max_y = {\n",
    "    \"ant\": 8000,\n",
    "    \"halfcheetah\": 8000,\n",
    "    \"hopper\": 2500,\n",
    "    \"humanoid\": 13000,\n",
    "    \"humanoidstandup\": 75_000,\n",
    "    \"reacher\": 5,\n",
    "    \"walker2d\": 5000,\n",
    "    \"pusher\": 0,\n",
    "}[env_name]\n",
    "min_y = {\"reacher\": -100, \"pusher\": -150}.get(env_name, 0)\n",
    "\n",
    "xdata, ydata = [], []\n",
    "times = [datetime.now()]\n",
    "\n",
    "\n",
    "def progress(num_steps, metrics):\n",
    "    times.append(datetime.now())\n",
    "    xdata.append(num_steps)\n",
    "    ydata.append(metrics[\"eval/episode_reward\"])\n",
    "    clear_output(wait=True)\n",
    "    plt.xlim([0, train_fn.keywords[\"num_timesteps\"]])\n",
    "    plt.ylim([min_y, max_y])\n",
    "    plt.xlabel(\"# environment steps\")\n",
    "    plt.ylabel(\"reward per episode\")\n",
    "    plt.plot(xdata, ydata)\n",
    "    plt.show()\n",
    "\n",
    "\n",
    "make_inference_fn, params, _ = train_fn(environment=env, progress_fn=progress)\n",
    "inference_fn = make_inference_fn(params)\n",
    "\n",
    "print(f\"time to jit: {times[1] - times[0]}\")\n",
    "print(f\"time to train: {times[-1] - times[1]}\")"
   ]
  },
  {
   "cell_type": "markdown",
   "metadata": {},
   "source": [
    "# Inference"
   ]
  },
  {
   "cell_type": "code",
   "execution_count": null,
   "metadata": {
    "colab": {
     "height": 480
    },
    "executionInfo": {
     "elapsed": 33520,
     "status": "ok",
     "timestamp": 1679346718844,
     "user": {
      "displayName": "",
      "userId": ""
     },
     "user_tz": 240
    },
    "id": "kF5fS-yo35sI",
    "outputId": "94d1a7d5-8d6e-456c-8cfd-94a689b8808f"
   },
   "outputs": [],
   "source": [
    "# create an env with auto-reset\n",
    "env = envs.create(env_name=env_name, backend=backend)\n",
    "\n",
    "jit_env_reset = jax.jit(env.reset)\n",
    "jit_env_step = jax.jit(env.step)\n",
    "jit_inference_fn = jax.jit(inference_fn)\n",
    "\n",
    "rollout = []\n",
    "rng = jax.random.PRNGKey(seed=1)\n",
    "state = jit_env_reset(rng=rng)\n",
    "for _ in range(1000):\n",
    "    rollout.append(state.pipeline_state)\n",
    "    act_rng, rng = jax.random.split(rng)\n",
    "    act, _ = jit_inference_fn(state.obs, act_rng)\n",
    "    state = jit_env_step(state, act)\n",
    "\n",
    "HTML(html.render(env.sys.replace(dt=env.dt), rollout))"
   ]
  }
 ],
 "metadata": {
  "colab": {
   "provenance": [],
   "toc_visible": true
  },
  "kernelspec": {
   "display_name": "Python 3",
   "name": "python3"
  },
  "language_info": {
   "codemirror_mode": {
    "name": "ipython",
    "version": 3
   },
   "file_extension": ".py",
   "mimetype": "text/x-python",
   "name": "python",
   "nbconvert_exporter": "python",
   "pygments_lexer": "ipython3",
   "version": "3.10.12"
  }
 },
 "nbformat": 4,
 "nbformat_minor": 0
}
