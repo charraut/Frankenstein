{
 "cells": [
  {
   "cell_type": "code",
   "execution_count": null,
   "metadata": {},
   "outputs": [],
   "source": [
    "from collections import deque\n",
    "\n",
    "import jax\n",
    "import numpy as np\n",
    "from brax import envs\n",
    "from tqdm import tqdm\n",
    "from brax.envs.wrappers import gym as gym_wrapper\n",
    "\n",
    "\n",
    "total_timesteps = 1_000_000\n",
    "seed = 0\n",
    "env = envs.create(\"halfcheetah\", batch_size=1)\n",
    "env = gym_wrapper.VectorGymWrapper(env)\n",
    "\n",
    "action_size = np.prod(env.action_space.shape)\n",
    "action_low = -1\n",
    "action_high = 1\n",
    "\n",
    "key = jax.random.split(jax.random.PRNGKey(seed), 3)\n",
    "\n",
    "state = env.reset()\n",
    "\n",
    "log_episodic_returns = deque(maxlen=5)\n",
    "log_episodic_lengths = deque(maxlen=5)\n",
    "\n",
    "reward_log = []"
   ]
  },
  {
   "cell_type": "code",
   "execution_count": null,
   "metadata": {},
   "outputs": [],
   "source": [
    "for global_step in tqdm(range(total_timesteps)):\n",
    "    # action = jax.random.uniform(key=key, shape=(action_size,), minval=action_low, maxval=action_high)\n",
    "    action = np.random.uniform(low=action_low, high=action_high, size=(1, action_size))\n",
    "\n",
    "    # Perform action\n",
    "    obs, reward, done, info = env.step(action)\n",
    "\n",
    "    reward_log.append(reward)\n",
    "\n",
    "    # Log episodic return and length\n",
    "    if done:\n",
    "        log_episodic_returns.append(np.sum(reward_log))\n",
    "        log_episodic_lengths.append(len(reward_log))\n",
    "\n",
    "        print(f\"Episodic return: {np.sum(reward_log)} | Episodic length: {len(reward_log)}\")\n",
    "        reward_log = []"
   ]
  }
 ],
 "metadata": {
  "kernelspec": {
   "display_name": "venv",
   "language": "python",
   "name": "python3"
  },
  "language_info": {
   "codemirror_mode": {
    "name": "ipython",
    "version": 3
   },
   "file_extension": ".py",
   "mimetype": "text/x-python",
   "name": "python",
   "nbconvert_exporter": "python",
   "pygments_lexer": "ipython3",
   "version": "3.10.12"
  }
 },
 "nbformat": 4,
 "nbformat_minor": 2
}
