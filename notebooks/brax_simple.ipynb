{
 "cells": [
  {
   "cell_type": "code",
   "execution_count": null,
   "metadata": {},
   "outputs": [],
   "source": [
    "import numpy as np\n",
    "from brax import envs\n",
    "from brax.envs.wrappers import gym as gym_wrapper\n",
    "from time import perf_counter\n",
    "\n",
    "batch_size = 2048\n",
    "env = envs.create(\"halfcheetah\", batch_size=batch_size)\n",
    "env = gym_wrapper.VectorGymWrapper(env)\n",
    "\n",
    "action_low = -1\n",
    "action_high = 1\n",
    "\n",
    "t = perf_counter()\n",
    "env.reset()\n",
    "env.step(np.random.uniform(low=action_low, high=action_high, size=env.action_space.shape))\n",
    "print(f\"Time to jit: {perf_counter() - t}\")\n",
    "\n",
    "for i in range(10):\n",
    "    t = perf_counter()\n",
    "    action = np.random.uniform(low=action_low, high=action_high, size=env.action_space.shape)\n",
    "    obs, reward, done, info = env.step(action)\n",
    "    print(f\"Time to step: {perf_counter() - t}\")\n",
    "    print(f\"Time per step: {(perf_counter() - t) / batch_size}\")\n",
    "    print(\"\")"
   ]
  },
  {
   "cell_type": "code",
   "execution_count": null,
   "metadata": {},
   "outputs": [],
   "source": [
    "import gymnasium as gym\n",
    "\n",
    "batch_size = 512\n",
    "env = gym.vector.AsyncVectorEnv([lambda: gym.make(\"HalfCheetah-v4\") for _ in range(batch_size)])\n",
    "observation, info = env.reset()\n",
    "\n",
    "for _ in range(10):\n",
    "    t = perf_counter()\n",
    "    action = env.action_space.sample()\n",
    "    observation, reward, terminated, truncated, info = env.step(action)\n",
    "    print(f\"Time to step: {perf_counter() - t}\")\n",
    "    print(f\"Time per step: {(perf_counter() - t) / batch_size}\")\n",
    "    print(\"\")"
   ]
  }
 ],
 "metadata": {
  "kernelspec": {
   "display_name": "venv",
   "language": "python",
   "name": "python3"
  },
  "language_info": {
   "codemirror_mode": {
    "name": "ipython",
    "version": 3
   },
   "file_extension": ".py",
   "mimetype": "text/x-python",
   "name": "python",
   "nbconvert_exporter": "python",
   "pygments_lexer": "ipython3",
   "version": "3.10.12"
  }
 },
 "nbformat": 4,
 "nbformat_minor": 2
}
